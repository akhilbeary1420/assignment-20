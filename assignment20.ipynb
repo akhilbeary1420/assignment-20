{
 "cells": [
  {
   "cell_type": "markdown",
   "metadata": {},
   "source": [
    "\n",
    "Question 1: What are the three stages to build the hypothesis or model in machine learning?\n",
    "\n",
    "SOLUTION : 1.Model Building\n",
    "           2.Model Testing \n",
    "           3.Applying the Model\n",
    "\n",
    "Question 2: What is the standard approach to supervised learning?\n",
    "\n",
    "SOLUTION : Split sample data into a training set and test set\n",
    "\n",
    "Question 3: What is a training set and Test set?\n",
    "  \n",
    "SOLUTION : What is a Training Set?\n",
    "\n",
    "In machine learning, a training set is a dataset used to train a model. In training the model, specific features are picked out from the training set. These features are then incorporated into the model. Thereby, if the training set is labeled correctly, the model should be able to learn something from these features.\n",
    "\n",
    " What is a Test Set?\n",
    "\n",
    "The test set is a dataset used to measure how well the model performs at making predictions on that test set. If the prediction scores for the test set are unreasonable, we’ll need to make some adjustments to our model and try again.\n",
    "\n",
    "But why not just use the data from the training set to test the performance of our model?\n",
    "\n",
    "The issue here is that our test would yield misleading results if we test our model with the training data. The model itself was created by learning from the training set, so it will likely do quite well at making predictions on the training set itself- it knows this data too well. We need to test the model with a test set, i.e. a dataset the model hasn’t seen before.\n",
    "\n",
    "Question 4: What is the general principle of an ensemble method and what is bagging and boosting in ensemble method?\n",
    "\n",
    "SOLUTION : combine predictions of several models in order to improve robustness over a single model... Bagging is used to improve unstable estimation and classification, whil bosting is used to reduce bias in an ensemble.\n",
    "\n",
    " Question 5: How can you avoid overfitting?\n",
    "\n",
    "SOLUTION : Decision trees are a nonparametric machine learning algorithm that is very flexible and is subject to overfitting training data. This problem can be addressed by pruning a tree after it has learned in order to remove some of the detail it has picked up."
   ]
  }
 ],
 "metadata": {
  "kernelspec": {
   "display_name": "Python 3",
   "language": "python",
   "name": "python3"
  },
  "language_info": {
   "codemirror_mode": {
    "name": "ipython",
    "version": 3
   },
   "file_extension": ".py",
   "mimetype": "text/x-python",
   "name": "python",
   "nbconvert_exporter": "python",
   "pygments_lexer": "ipython3",
   "version": "3.6.6"
  }
 },
 "nbformat": 4,
 "nbformat_minor": 2
}
